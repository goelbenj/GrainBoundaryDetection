{
 "cells": [
  {
   "cell_type": "markdown",
   "id": "51301582",
   "metadata": {
    "papermill": {
     "duration": 0.007194,
     "end_time": "2023-04-11T21:05:19.916330",
     "exception": false,
     "start_time": "2023-04-11T21:05:19.909136",
     "status": "completed"
    },
    "tags": []
   },
   "source": [
    "# Installing Dependencies"
   ]
  },
  {
   "cell_type": "code",
   "execution_count": null,
   "id": "630ca08c",
   "metadata": {
    "_cell_guid": "b1076dfc-b9ad-4769-8c92-a6c4dae69d19",
    "_uuid": "8f2839f25d086af736a60e9eeb907d3b93b6e0e5",
    "execution": {
     "iopub.execute_input": "2023-04-11T21:05:19.930129Z",
     "iopub.status.busy": "2023-04-11T21:05:19.929658Z",
     "iopub.status.idle": "2023-04-11T21:05:31.229693Z",
     "shell.execute_reply": "2023-04-11T21:05:31.228433Z"
    },
    "papermill": {
     "duration": 11.31063,
     "end_time": "2023-04-11T21:05:31.233085",
     "exception": false,
     "start_time": "2023-04-11T21:05:19.922455",
     "status": "completed"
    },
    "tags": []
   },
   "outputs": [],
   "source": [
    "# ! pip install transformers\n",
    "# ! pip install tensorflow"
   ]
  },
  {
   "cell_type": "markdown",
   "id": "01bd8ee3",
   "metadata": {
    "papermill": {
     "duration": 0.006671,
     "end_time": "2023-04-11T21:05:31.246914",
     "exception": false,
     "start_time": "2023-04-11T21:05:31.240243",
     "status": "completed"
    },
    "tags": []
   },
   "source": [
    "# Imports"
   ]
  },
  {
   "cell_type": "code",
   "execution_count": null,
   "id": "2ce14c6a",
   "metadata": {
    "execution": {
     "iopub.execute_input": "2023-04-11T21:05:31.261554Z",
     "iopub.status.busy": "2023-04-11T21:05:31.261242Z",
     "iopub.status.idle": "2023-04-11T21:05:39.247098Z",
     "shell.execute_reply": "2023-04-11T21:05:39.245900Z"
    },
    "papermill": {
     "duration": 7.996193,
     "end_time": "2023-04-11T21:05:39.249615",
     "exception": false,
     "start_time": "2023-04-11T21:05:31.253422",
     "status": "completed"
    },
    "tags": []
   },
   "outputs": [],
   "source": [
    "import os\n",
    "import tensorflow as tf\n",
    "from tensorflow.keras import backend\n",
    "import matplotlib.pyplot as plt"
   ]
  },
  {
   "cell_type": "markdown",
   "id": "d2d7e24c",
   "metadata": {
    "papermill": {
     "duration": 0.006312,
     "end_time": "2023-04-11T21:05:39.264142",
     "exception": false,
     "start_time": "2023-04-11T21:05:39.257830",
     "status": "completed"
    },
    "tags": []
   },
   "source": [
    "# Dataset"
   ]
  },
  {
   "cell_type": "markdown",
   "id": "b1c165b9",
   "metadata": {
    "papermill": {
     "duration": 0.006154,
     "end_time": "2023-04-11T21:05:39.276548",
     "exception": false,
     "start_time": "2023-04-11T21:05:39.270394",
     "status": "completed"
    },
    "tags": []
   },
   "source": [
    "### Function to read the image file"
   ]
  },
  {
   "cell_type": "code",
   "execution_count": null,
   "id": "419d2a85",
   "metadata": {
    "execution": {
     "iopub.execute_input": "2023-04-11T21:05:39.291763Z",
     "iopub.status.busy": "2023-04-11T21:05:39.290230Z",
     "iopub.status.idle": "2023-04-11T21:05:39.297318Z",
     "shell.execute_reply": "2023-04-11T21:05:39.296406Z"
    },
    "papermill": {
     "duration": 0.016519,
     "end_time": "2023-04-11T21:05:39.299337",
     "exception": false,
     "start_time": "2023-04-11T21:05:39.282818",
     "status": "completed"
    },
    "tags": []
   },
   "outputs": [],
   "source": [
    "def load_image_file(image_path, mask_path):\n",
    "    image = tf.io.read_file(image_path)\n",
    "    mask = tf.io.read_file(mask_path)\n",
    "\n",
    "    image = tf.image.decode_jpeg(image, channels=3)\n",
    "    mask = tf.image.decode_png(mask, channels=1)\n",
    "\n",
    "    return {\"image\": image, \"segmentation_mask\": mask}"
   ]
  },
  {
   "cell_type": "markdown",
   "id": "429e6e12",
   "metadata": {
    "papermill": {
     "duration": 0.006134,
     "end_time": "2023-04-11T21:05:39.313034",
     "exception": false,
     "start_time": "2023-04-11T21:05:39.306900",
     "status": "completed"
    },
    "tags": []
   },
   "source": [
    "### Loading the dataset"
   ]
  },
  {
   "cell_type": "code",
   "execution_count": null,
   "id": "fac7de55",
   "metadata": {
    "execution": {
     "iopub.execute_input": "2023-04-11T21:05:39.327636Z",
     "iopub.status.busy": "2023-04-11T21:05:39.327068Z",
     "iopub.status.idle": "2023-04-11T21:06:18.966521Z",
     "shell.execute_reply": "2023-04-11T21:06:18.965437Z"
    },
    "papermill": {
     "duration": 39.655434,
     "end_time": "2023-04-11T21:06:18.974768",
     "exception": false,
     "start_time": "2023-04-11T21:05:39.319334",
     "status": "completed"
    },
    "tags": []
   },
   "outputs": [],
   "source": [
    "train_image_dir = \"/Users/bengoel/Documents/GrainBoundaryDetection/GRAIN_DATA_SET/RG\"\n",
    "train_mask_dir = \"/Users/bengoel/Documents/GrainBoundaryDetection/GRAIN_DATA_SET/RGMask\"\n",
    "valid_image_dir = \"/Users/bengoel/Documents/GrainBoundaryDetection/GRAIN_DATA_SET/RG\"\n",
    "valid_mask_dir = \"/Users/bengoel/Documents/GrainBoundaryDetection/GRAIN_DATA_SET/RGMask\"\n",
    "test_image_dir = \"/Users/bengoel/Documents/GrainBoundaryDetection/GRAIN_DATA_SET/RG\"\n",
    "test_mask_dir = \"/Users/bengoel/Documents/GrainBoundaryDetection/GRAIN_DATA_SET/RGMask\"\n",
    "\n",
    "# Define list of image and mask file names\n",
    "train_image_names = sorted(os.listdir(train_image_dir))\n",
    "train_mask_names = sorted(os.listdir(train_mask_dir))\n",
    "\n",
    "valid_image_names = sorted(os.listdir(valid_image_dir))\n",
    "valid_mask_names = sorted(os.listdir(valid_mask_dir))\n",
    "\n",
    "test_image_names = sorted(os.listdir(test_image_dir))\n",
    "test_mask_names = sorted(os.listdir(test_mask_dir))\n",
    "\n",
    "train_pairs = []\n",
    "for img_name in train_image_names:\n",
    "    # Check if image file name matches mask file name\n",
    "    mask_name = img_name.replace(\"RG\", \"RGMask\")\n",
    "    if mask_name in train_mask_names:\n",
    "        train_pairs.append((os.path.join(train_image_dir, img_name), os.path.join(train_mask_dir, mask_name)))\n",
    "        \n",
    "valid_pairs = []\n",
    "for img_name in valid_image_names:\n",
    "    # Check if image file name matches mask file name\n",
    "    mask_name = img_name.replace(\"RG\", \"RGMask\")\n",
    "    if mask_name in valid_mask_names:\n",
    "        valid_pairs.append((os.path.join(valid_image_dir, img_name), os.path.join(valid_mask_dir, mask_name)))\n",
    "\n",
    "test_pairs = []\n",
    "for img_name in test_image_names:\n",
    "    # Check if image file name matches mask file name\n",
    "    mask_name = img_name.replace(\"RG\", \"RGMask\")\n",
    "    if mask_name in test_mask_names:\n",
    "        test_pairs.append((os.path.join(test_image_dir, img_name), os.path.join(test_mask_dir, mask_name)))\n",
    "\n",
    "# Load image and mask data from file paths\n",
    "data_train = [load_image_file(image_path, mask_path) for image_path, mask_path in train_pairs]\n",
    "data_valid = [load_image_file(image_path, mask_path) for image_path, mask_path in valid_pairs]\n",
    "data_test = [load_image_file(image_path, mask_path) for image_path, mask_path in test_pairs]\n",
    "\n",
    "len(data_train), len(data_valid), len(data_test)"
   ]
  },
  {
   "cell_type": "markdown",
   "id": "35866541",
   "metadata": {
    "papermill": {
     "duration": 0.006392,
     "end_time": "2023-04-11T21:06:18.987837",
     "exception": false,
     "start_time": "2023-04-11T21:06:18.981445",
     "status": "completed"
    },
    "tags": []
   },
   "source": [
    "### Normalization and Image Resizing"
   ]
  },
  {
   "cell_type": "markdown",
   "id": "7303f0ec",
   "metadata": {
    "papermill": {
     "duration": 0.00636,
     "end_time": "2023-04-11T21:06:19.000626",
     "exception": false,
     "start_time": "2023-04-11T21:06:18.994266",
     "status": "completed"
    },
    "tags": []
   },
   "source": [
    "#### P.S. You could do data augmentation here as well. I kept it very simple"
   ]
  },
  {
   "cell_type": "code",
   "execution_count": null,
   "id": "8e8f9c40",
   "metadata": {
    "execution": {
     "iopub.execute_input": "2023-04-11T21:06:19.015899Z",
     "iopub.status.busy": "2023-04-11T21:06:19.014824Z",
     "iopub.status.idle": "2023-04-11T21:06:19.034403Z",
     "shell.execute_reply": "2023-04-11T21:06:19.033384Z"
    },
    "papermill": {
     "duration": 0.029618,
     "end_time": "2023-04-11T21:06:19.036747",
     "exception": false,
     "start_time": "2023-04-11T21:06:19.007129",
     "status": "completed"
    },
    "tags": []
   },
   "outputs": [],
   "source": [
    "image_size = 512\n",
    "mean = tf.constant([0.485, 0.456, 0.406])\n",
    "std = tf.constant([0.229, 0.224, 0.225])\n",
    "\n",
    "\n",
    "def normalize(input_image, input_mask):\n",
    "    input_image = tf.image.convert_image_dtype(input_image, tf.float32)\n",
    "    input_image = (input_image - mean) / tf.maximum(std, backend.epsilon())\n",
    "    input_mask = input_mask / 255\n",
    "    return input_image, input_mask\n",
    "\n",
    "\n",
    "def load_image(datapoint):\n",
    "    input_image = tf.image.resize(datapoint[\"image\"], (image_size, image_size))\n",
    "    input_mask = tf.image.resize(\n",
    "        datapoint[\"segmentation_mask\"],\n",
    "        (image_size, image_size),\n",
    "        method=\"bilinear\",\n",
    "    )\n",
    "    input_image, input_mask = normalize(input_image, input_mask)\n",
    "    input_image = tf.transpose(input_image, (2, 0, 1))\n",
    "    \n",
    "    return {\"pixel_values\": input_image, \"labels\": tf.squeeze(input_mask)}"
   ]
  },
  {
   "cell_type": "code",
   "execution_count": null,
   "id": "5e167b7d",
   "metadata": {
    "execution": {
     "iopub.execute_input": "2023-04-11T21:06:19.050966Z",
     "iopub.status.busy": "2023-04-11T21:06:19.050680Z",
     "iopub.status.idle": "2023-04-11T21:06:27.382854Z",
     "shell.execute_reply": "2023-04-11T21:06:27.381712Z"
    },
    "papermill": {
     "duration": 8.342876,
     "end_time": "2023-04-11T21:06:27.385960",
     "exception": false,
     "start_time": "2023-04-11T21:06:19.043084",
     "status": "completed"
    },
    "tags": []
   },
   "outputs": [],
   "source": [
    "train_data = [load_image(datapoint) for datapoint in data_train]\n",
    "valid_data = [load_image(datapoint) for datapoint in data_valid]\n",
    "test_data = [load_image(datapoint) for datapoint in data_test]"
   ]
  },
  {
   "cell_type": "code",
   "execution_count": null,
   "id": "53f65ac0",
   "metadata": {
    "execution": {
     "iopub.execute_input": "2023-04-11T21:06:27.401707Z",
     "iopub.status.busy": "2023-04-11T21:06:27.401355Z",
     "iopub.status.idle": "2023-04-11T21:06:27.671548Z",
     "shell.execute_reply": "2023-04-11T21:06:27.670310Z"
    },
    "papermill": {
     "duration": 0.280535,
     "end_time": "2023-04-11T21:06:27.673930",
     "exception": false,
     "start_time": "2023-04-11T21:06:27.393395",
     "status": "completed"
    },
    "tags": []
   },
   "outputs": [],
   "source": [
    "index = 120\n",
    "plt.figure()\n",
    "plt.imshow(train_data[index][\"labels\"])\n",
    "plt.figure()\n",
    "plt.imshow(tf.keras.utils.array_to_img(tf.transpose(train_data[index]['pixel_values'], (1, 2, 0))))"
   ]
  },
  {
   "cell_type": "code",
   "execution_count": null,
   "id": "a42c2f09",
   "metadata": {
    "execution": {
     "iopub.execute_input": "2023-04-11T21:06:27.690246Z",
     "iopub.status.busy": "2023-04-11T21:06:27.689904Z",
     "iopub.status.idle": "2023-04-11T21:06:27.696502Z",
     "shell.execute_reply": "2023-04-11T21:06:27.695415Z"
    },
    "papermill": {
     "duration": 0.017201,
     "end_time": "2023-04-11T21:06:27.698704",
     "exception": false,
     "start_time": "2023-04-11T21:06:27.681503",
     "status": "completed"
    },
    "tags": []
   },
   "outputs": [],
   "source": [
    "def generator_train():\n",
    "    for datapoint in train_data:\n",
    "        yield datapoint\n",
    "        \n",
    "def generator_valid():\n",
    "    for datapoint in valid_data:\n",
    "        yield datapoint\n",
    "        \n",
    "def generator_test():\n",
    "    for datapoint in test_data:\n",
    "        yield datapoint"
   ]
  },
  {
   "cell_type": "markdown",
   "id": "3ad33842",
   "metadata": {
    "papermill": {
     "duration": 0.006781,
     "end_time": "2023-04-11T21:06:27.712915",
     "exception": false,
     "start_time": "2023-04-11T21:06:27.706134",
     "status": "completed"
    },
    "tags": []
   },
   "source": [
    "### Using <code>tf.data.Dataset</code> to build input pipeline"
   ]
  },
  {
   "cell_type": "code",
   "execution_count": null,
   "id": "2fb4f666",
   "metadata": {
    "execution": {
     "iopub.execute_input": "2023-04-11T21:06:27.729060Z",
     "iopub.status.busy": "2023-04-11T21:06:27.728271Z",
     "iopub.status.idle": "2023-04-11T21:06:27.831331Z",
     "shell.execute_reply": "2023-04-11T21:06:27.830212Z"
    },
    "papermill": {
     "duration": 0.113655,
     "end_time": "2023-04-11T21:06:27.833768",
     "exception": false,
     "start_time": "2023-04-11T21:06:27.720113",
     "status": "completed"
    },
    "tags": []
   },
   "outputs": [],
   "source": [
    "batch_size = 4\n",
    "auto = tf.data.AUTOTUNE\n",
    "\n",
    "train_ds = tf.data.Dataset.from_generator(generator_train, output_types={\"pixel_values\": tf.float32, \"labels\": tf.int32}).cache().shuffle(batch_size * 10).batch(batch_size).prefetch(auto)\n",
    "    \n",
    "valid_ds = tf.data.Dataset.from_generator(generator_valid, output_types={\"pixel_values\": tf.float32, \"labels\": tf.int32}).batch(batch_size).prefetch(auto)\n",
    "    \n",
    "test_ds = tf.data.Dataset.from_generator(generator_test, output_types={\"pixel_values\": tf.float32, \"labels\": tf.int32}).batch(batch_size).prefetch(auto)"
   ]
  },
  {
   "cell_type": "code",
   "execution_count": null,
   "id": "19a7d76f",
   "metadata": {
    "execution": {
     "iopub.execute_input": "2023-04-11T21:06:27.849845Z",
     "iopub.status.busy": "2023-04-11T21:06:27.848994Z",
     "iopub.status.idle": "2023-04-11T21:06:27.855136Z",
     "shell.execute_reply": "2023-04-11T21:06:27.853951Z"
    },
    "papermill": {
     "duration": 0.017636,
     "end_time": "2023-04-11T21:06:27.858314",
     "exception": false,
     "start_time": "2023-04-11T21:06:27.840678",
     "status": "completed"
    },
    "tags": []
   },
   "outputs": [],
   "source": [
    "print(train_ds.element_spec)"
   ]
  },
  {
   "cell_type": "markdown",
   "id": "6e7e64db",
   "metadata": {
    "papermill": {
     "duration": 0.007151,
     "end_time": "2023-04-11T21:06:27.872743",
     "exception": false,
     "start_time": "2023-04-11T21:06:27.865592",
     "status": "completed"
    },
    "tags": []
   },
   "source": [
    "# Visualizing the data"
   ]
  },
  {
   "cell_type": "code",
   "execution_count": null,
   "id": "99409c74",
   "metadata": {
    "execution": {
     "iopub.execute_input": "2023-04-11T21:06:27.888667Z",
     "iopub.status.busy": "2023-04-11T21:06:27.888392Z",
     "iopub.status.idle": "2023-04-11T21:06:28.873697Z",
     "shell.execute_reply": "2023-04-11T21:06:28.872337Z"
    },
    "papermill": {
     "duration": 0.996236,
     "end_time": "2023-04-11T21:06:28.876101",
     "exception": false,
     "start_time": "2023-04-11T21:06:27.879865",
     "status": "completed"
    },
    "tags": []
   },
   "outputs": [],
   "source": [
    "def display(display_list):\n",
    "    plt.figure(figsize=(15, 15))\n",
    "\n",
    "    title = [\"Input Image\", \"True Mask\", \"Predicted Mask\"]\n",
    "\n",
    "    for i in range(len(display_list)):\n",
    "        plt.subplot(1, len(display_list), i + 1)\n",
    "        plt.title(title[i])\n",
    "        plt.imshow(tf.keras.utils.array_to_img(display_list[i]))\n",
    "        plt.axis(\"off\")\n",
    "    plt.show()\n",
    "\n",
    "\n",
    "for samples in train_ds.take(2):\n",
    "    sample_image, sample_mask = samples[\"pixel_values\"][0], samples[\"labels\"][0]\n",
    "    sample_image = tf.transpose(sample_image, (1, 2, 0))\n",
    "    sample_mask = tf.expand_dims(sample_mask, -1)\n",
    "    display([sample_image, sample_mask])\n",
    "    print(sample_image.shape)"
   ]
  },
  {
   "cell_type": "markdown",
   "id": "1bbb14ca",
   "metadata": {
    "papermill": {
     "duration": 0.012604,
     "end_time": "2023-04-11T21:06:28.902275",
     "exception": false,
     "start_time": "2023-04-11T21:06:28.889671",
     "status": "completed"
    },
    "tags": []
   },
   "source": [
    "# Model"
   ]
  },
  {
   "cell_type": "code",
   "execution_count": null,
   "id": "f526b1f8",
   "metadata": {
    "execution": {
     "iopub.execute_input": "2023-04-11T21:06:28.929166Z",
     "iopub.status.busy": "2023-04-11T21:06:28.928343Z",
     "iopub.status.idle": "2023-04-11T21:06:47.747763Z",
     "shell.execute_reply": "2023-04-11T21:06:47.746356Z"
    },
    "papermill": {
     "duration": 18.835414,
     "end_time": "2023-04-11T21:06:47.750035",
     "exception": false,
     "start_time": "2023-04-11T21:06:28.914621",
     "status": "completed"
    },
    "tags": []
   },
   "outputs": [],
   "source": [
    "from transformers import TFSegformerForSemanticSegmentation\n",
    "\n",
    "model_checkpoint = \"nvidia/mit-b0\"\n",
    "id2label =  {0: \"outer\", 1: \"landslide\"}\n",
    "label2id = {label: id for id, label in id2label.items()}\n",
    "num_labels = len(id2label)\n",
    "model = TFSegformerForSemanticSegmentation.from_pretrained(\n",
    "    model_checkpoint,\n",
    "    num_labels=num_labels,\n",
    "    id2label=id2label,\n",
    "    label2id=label2id,\n",
    "    ignore_mismatched_sizes=True,\n",
    "    \n",
    ")"
   ]
  },
  {
   "cell_type": "markdown",
   "id": "83f86ad9",
   "metadata": {
    "papermill": {
     "duration": 0.013707,
     "end_time": "2023-04-11T21:06:47.778273",
     "exception": false,
     "start_time": "2023-04-11T21:06:47.764566",
     "status": "completed"
    },
    "tags": []
   },
   "source": [
    "# Hyperparameters and compiling the model"
   ]
  },
  {
   "cell_type": "code",
   "execution_count": null,
   "id": "3b4b842a",
   "metadata": {
    "execution": {
     "iopub.execute_input": "2023-04-11T21:06:47.807839Z",
     "iopub.status.busy": "2023-04-11T21:06:47.806856Z",
     "iopub.status.idle": "2023-04-11T21:06:47.826624Z",
     "shell.execute_reply": "2023-04-11T21:06:47.825706Z"
    },
    "papermill": {
     "duration": 0.037183,
     "end_time": "2023-04-11T21:06:47.828976",
     "exception": false,
     "start_time": "2023-04-11T21:06:47.791793",
     "status": "completed"
    },
    "tags": []
   },
   "outputs": [],
   "source": [
    "lr = 0.00006\n",
    "epochs = 5\n",
    "optimizer = tf.keras.optimizers.Adam(learning_rate=lr)\n",
    "model.compile(optimizer=optimizer)"
   ]
  },
  {
   "cell_type": "markdown",
   "id": "356d1aa8",
   "metadata": {
    "papermill": {
     "duration": 0.013632,
     "end_time": "2023-04-11T21:06:47.856261",
     "exception": false,
     "start_time": "2023-04-11T21:06:47.842629",
     "status": "completed"
    },
    "tags": []
   },
   "source": [
    "### Callback to visualize image after every epoch"
   ]
  },
  {
   "cell_type": "code",
   "execution_count": null,
   "id": "69c36acd",
   "metadata": {
    "execution": {
     "iopub.execute_input": "2023-04-11T21:06:47.886431Z",
     "iopub.status.busy": "2023-04-11T21:06:47.885543Z",
     "iopub.status.idle": "2023-04-11T21:06:47.895713Z",
     "shell.execute_reply": "2023-04-11T21:06:47.894716Z"
    },
    "papermill": {
     "duration": 0.028187,
     "end_time": "2023-04-11T21:06:47.898655",
     "exception": false,
     "start_time": "2023-04-11T21:06:47.870468",
     "status": "completed"
    },
    "tags": []
   },
   "outputs": [],
   "source": [
    "from IPython.display import clear_output\n",
    "\n",
    "\n",
    "def create_mask(pred_mask):\n",
    "    pred_mask = tf.math.argmax(pred_mask, axis=1)\n",
    "    pred_mask = tf.expand_dims(pred_mask, -1)\n",
    "    return pred_mask[0]\n",
    "\n",
    "\n",
    "def show_predictions(dataset=None, num=1):\n",
    "    if dataset:\n",
    "        for sample in dataset.take(num):\n",
    "            images, masks = sample[\"pixel_values\"], sample[\"labels\"]\n",
    "            masks = tf.expand_dims(masks, -1)\n",
    "            pred_masks = model.predict(images).logits\n",
    "            images = tf.transpose(images, (0, 2, 3, 1))\n",
    "            display([images[0], masks[0], create_mask(pred_masks)])\n",
    "    else:\n",
    "        display(\n",
    "            [\n",
    "                sample_image,\n",
    "                sample_mask,\n",
    "                create_mask(model.predict(tf.expand_dims(sample_image, 0))),\n",
    "            ]\n",
    "        )\n",
    "\n",
    "\n",
    "class DisplayCallback(tf.keras.callbacks.Callback):\n",
    "    def __init__(self, dataset, **kwargs):\n",
    "        super().__init__(**kwargs)\n",
    "        self.dataset = dataset\n",
    "\n",
    "    def on_epoch_end(self, epoch, logs=None):\n",
    "        clear_output(wait=True)\n",
    "        show_predictions(self.dataset)\n",
    "        print(\"\\nSample Prediction after epoch {}\\n\".format(epoch + 1))\n"
   ]
  },
  {
   "cell_type": "markdown",
   "id": "a48dd1a3",
   "metadata": {
    "papermill": {
     "duration": 0.013719,
     "end_time": "2023-04-11T21:06:47.925788",
     "exception": false,
     "start_time": "2023-04-11T21:06:47.912069",
     "status": "completed"
    },
    "tags": []
   },
   "source": [
    "# Training Loop"
   ]
  },
  {
   "cell_type": "code",
   "execution_count": null,
   "id": "d362b174",
   "metadata": {
    "execution": {
     "iopub.execute_input": "2023-04-11T21:06:47.955517Z",
     "iopub.status.busy": "2023-04-11T21:06:47.954721Z",
     "iopub.status.idle": "2023-04-11T21:11:13.701795Z",
     "shell.execute_reply": "2023-04-11T21:11:13.700719Z"
    },
    "papermill": {
     "duration": 265.764529,
     "end_time": "2023-04-11T21:11:13.704268",
     "exception": false,
     "start_time": "2023-04-11T21:06:47.939739",
     "status": "completed"
    },
    "tags": []
   },
   "outputs": [],
   "source": [
    "history = model.fit(\n",
    "    train_ds,\n",
    "    validation_data=valid_ds,\n",
    "    callbacks=[DisplayCallback(test_ds)],\n",
    "    epochs=epochs,\n",
    ")"
   ]
  },
  {
   "cell_type": "code",
   "execution_count": null,
   "id": "740c5734",
   "metadata": {
    "execution": {
     "iopub.execute_input": "2023-04-11T21:11:13.738969Z",
     "iopub.status.busy": "2023-04-11T21:11:13.738611Z",
     "iopub.status.idle": "2023-04-11T21:11:13.983591Z",
     "shell.execute_reply": "2023-04-11T21:11:13.982504Z"
    },
    "papermill": {
     "duration": 0.265465,
     "end_time": "2023-04-11T21:11:13.986499",
     "exception": false,
     "start_time": "2023-04-11T21:11:13.721034",
     "status": "completed"
    },
    "tags": []
   },
   "outputs": [],
   "source": [
    "model.save_weights(\"/kaggle/working/segformer-5-b1.h5\")"
   ]
  },
  {
   "cell_type": "markdown",
   "id": "3ae532f2",
   "metadata": {
    "papermill": {
     "duration": 0.016169,
     "end_time": "2023-04-11T21:11:14.019326",
     "exception": false,
     "start_time": "2023-04-11T21:11:14.003157",
     "status": "completed"
    },
    "tags": []
   },
   "source": [
    "# Loss Plot"
   ]
  },
  {
   "cell_type": "code",
   "execution_count": null,
   "id": "7606dba8",
   "metadata": {
    "execution": {
     "iopub.execute_input": "2023-04-11T21:11:14.053264Z",
     "iopub.status.busy": "2023-04-11T21:11:14.052943Z",
     "iopub.status.idle": "2023-04-11T21:11:14.533243Z",
     "shell.execute_reply": "2023-04-11T21:11:14.532225Z"
    },
    "papermill": {
     "duration": 0.500655,
     "end_time": "2023-04-11T21:11:14.536301",
     "exception": false,
     "start_time": "2023-04-11T21:11:14.035646",
     "status": "completed"
    },
    "tags": []
   },
   "outputs": [],
   "source": [
    "plt.style.use(\"seaborn\")\n",
    "\n",
    "def display_training_curves(training, validation, title, subplot):\n",
    "  ax = plt.subplot(subplot)\n",
    "  ax.plot(training)\n",
    "  ax.plot(validation)\n",
    "  ax.set_title('Model '+ title)\n",
    "  ax.set_ylabel(title)\n",
    "  ax.set_xlabel('epoch')\n",
    "  ax.legend(['training', 'validation'])\n",
    "\n",
    "plt.subplots(figsize=(8,8))\n",
    "plt.tight_layout()\n",
    "display_training_curves(history.history['loss'], history.history['val_loss'], 'Loss', 111)\n",
    "plt.savefig(\"train_eval_plot_segformer-5-b1.jpg\")"
   ]
  },
  {
   "cell_type": "markdown",
   "id": "7e56e1aa",
   "metadata": {
    "papermill": {
     "duration": 0.026514,
     "end_time": "2023-04-11T21:11:14.589901",
     "exception": false,
     "start_time": "2023-04-11T21:11:14.563387",
     "status": "completed"
    },
    "tags": []
   },
   "source": [
    "# Predictions"
   ]
  },
  {
   "cell_type": "code",
   "execution_count": null,
   "id": "2777e984",
   "metadata": {
    "execution": {
     "iopub.execute_input": "2023-04-11T21:11:14.644088Z",
     "iopub.status.busy": "2023-04-11T21:11:14.643603Z",
     "iopub.status.idle": "2023-04-11T21:11:19.039457Z",
     "shell.execute_reply": "2023-04-11T21:11:19.038413Z"
    },
    "papermill": {
     "duration": 4.426471,
     "end_time": "2023-04-11T21:11:19.042009",
     "exception": false,
     "start_time": "2023-04-11T21:11:14.615538",
     "status": "completed"
    },
    "tags": []
   },
   "outputs": [],
   "source": [
    "show_predictions(valid_ds, 10)"
   ]
  }
 ],
 "metadata": {
  "kernelspec": {
   "display_name": "Python 3",
   "language": "python",
   "name": "python3"
  },
  "language_info": {
   "codemirror_mode": {
    "name": "ipython",
    "version": 3
   },
   "file_extension": ".py",
   "mimetype": "text/x-python",
   "name": "python",
   "nbconvert_exporter": "python",
   "pygments_lexer": "ipython3",
   "version": "3.10.13"
  },
  "papermill": {
   "default_parameters": {},
   "duration": 373.145485,
   "end_time": "2023-04-11T21:11:23.040470",
   "environment_variables": {},
   "exception": null,
   "input_path": "__notebook__.ipynb",
   "output_path": "__notebook__.ipynb",
   "parameters": {},
   "start_time": "2023-04-11T21:05:09.894985",
   "version": "2.4.0"
  },
  "widgets": {
   "application/vnd.jupyter.widget-state+json": {
    "state": {
     "0a25a2c027d648a2b9c5ddd5c0d0fc75": {
      "model_module": "@jupyter-widgets/base",
      "model_module_version": "1.2.0",
      "model_name": "LayoutModel",
      "state": {
       "_model_module": "@jupyter-widgets/base",
       "_model_module_version": "1.2.0",
       "_model_name": "LayoutModel",
       "_view_count": null,
       "_view_module": "@jupyter-widgets/base",
       "_view_module_version": "1.2.0",
       "_view_name": "LayoutView",
       "align_content": null,
       "align_items": null,
       "align_self": null,
       "border": null,
       "bottom": null,
       "display": null,
       "flex": null,
       "flex_flow": null,
       "grid_area": null,
       "grid_auto_columns": null,
       "grid_auto_flow": null,
       "grid_auto_rows": null,
       "grid_column": null,
       "grid_gap": null,
       "grid_row": null,
       "grid_template_areas": null,
       "grid_template_columns": null,
       "grid_template_rows": null,
       "height": null,
       "justify_content": null,
       "justify_items": null,
       "left": null,
       "margin": null,
       "max_height": null,
       "max_width": null,
       "min_height": null,
       "min_width": null,
       "object_fit": null,
       "object_position": null,
       "order": null,
       "overflow": null,
       "overflow_x": null,
       "overflow_y": null,
       "padding": null,
       "right": null,
       "top": null,
       "visibility": null,
       "width": null
      }
     },
     "0f15e63977a042e692298e3c729458a6": {
      "model_module": "@jupyter-widgets/controls",
      "model_module_version": "1.5.0",
      "model_name": "DescriptionStyleModel",
      "state": {
       "_model_module": "@jupyter-widgets/controls",
       "_model_module_version": "1.5.0",
       "_model_name": "DescriptionStyleModel",
       "_view_count": null,
       "_view_module": "@jupyter-widgets/base",
       "_view_module_version": "1.2.0",
       "_view_name": "StyleView",
       "description_width": ""
      }
     },
     "112bde11796049aeb7768f20dc90a308": {
      "model_module": "@jupyter-widgets/controls",
      "model_module_version": "1.5.0",
      "model_name": "HBoxModel",
      "state": {
       "_dom_classes": [],
       "_model_module": "@jupyter-widgets/controls",
       "_model_module_version": "1.5.0",
       "_model_name": "HBoxModel",
       "_view_count": null,
       "_view_module": "@jupyter-widgets/controls",
       "_view_module_version": "1.5.0",
       "_view_name": "HBoxView",
       "box_style": "",
       "children": [
        "IPY_MODEL_51c08aee39d945648a7e066601b8515e",
        "IPY_MODEL_dc2614ff9c614898a733262eca811fd3",
        "IPY_MODEL_c62ef6f785b04075ad29cf4e599bc574"
       ],
       "layout": "IPY_MODEL_67ac5f568c354d24bf180d4efb966199"
      }
     },
     "156a5f9dd69c422fac81d38ba48d5a06": {
      "model_module": "@jupyter-widgets/controls",
      "model_module_version": "1.5.0",
      "model_name": "ProgressStyleModel",
      "state": {
       "_model_module": "@jupyter-widgets/controls",
       "_model_module_version": "1.5.0",
       "_model_name": "ProgressStyleModel",
       "_view_count": null,
       "_view_module": "@jupyter-widgets/base",
       "_view_module_version": "1.2.0",
       "_view_name": "StyleView",
       "bar_color": null,
       "description_width": ""
      }
     },
     "2668f9d575dd443d9f9a782114372d3b": {
      "model_module": "@jupyter-widgets/controls",
      "model_module_version": "1.5.0",
      "model_name": "DescriptionStyleModel",
      "state": {
       "_model_module": "@jupyter-widgets/controls",
       "_model_module_version": "1.5.0",
       "_model_name": "DescriptionStyleModel",
       "_view_count": null,
       "_view_module": "@jupyter-widgets/base",
       "_view_module_version": "1.2.0",
       "_view_name": "StyleView",
       "description_width": ""
      }
     },
     "2d3b99713d3d4e7db4acebb78e6c15da": {
      "model_module": "@jupyter-widgets/base",
      "model_module_version": "1.2.0",
      "model_name": "LayoutModel",
      "state": {
       "_model_module": "@jupyter-widgets/base",
       "_model_module_version": "1.2.0",
       "_model_name": "LayoutModel",
       "_view_count": null,
       "_view_module": "@jupyter-widgets/base",
       "_view_module_version": "1.2.0",
       "_view_name": "LayoutView",
       "align_content": null,
       "align_items": null,
       "align_self": null,
       "border": null,
       "bottom": null,
       "display": null,
       "flex": null,
       "flex_flow": null,
       "grid_area": null,
       "grid_auto_columns": null,
       "grid_auto_flow": null,
       "grid_auto_rows": null,
       "grid_column": null,
       "grid_gap": null,
       "grid_row": null,
       "grid_template_areas": null,
       "grid_template_columns": null,
       "grid_template_rows": null,
       "height": null,
       "justify_content": null,
       "justify_items": null,
       "left": null,
       "margin": null,
       "max_height": null,
       "max_width": null,
       "min_height": null,
       "min_width": null,
       "object_fit": null,
       "object_position": null,
       "order": null,
       "overflow": null,
       "overflow_x": null,
       "overflow_y": null,
       "padding": null,
       "right": null,
       "top": null,
       "visibility": null,
       "width": null
      }
     },
     "51c08aee39d945648a7e066601b8515e": {
      "model_module": "@jupyter-widgets/controls",
      "model_module_version": "1.5.0",
      "model_name": "HTMLModel",
      "state": {
       "_dom_classes": [],
       "_model_module": "@jupyter-widgets/controls",
       "_model_module_version": "1.5.0",
       "_model_name": "HTMLModel",
       "_view_count": null,
       "_view_module": "@jupyter-widgets/controls",
       "_view_module_version": "1.5.0",
       "_view_name": "HTMLView",
       "description": "",
       "description_tooltip": null,
       "layout": "IPY_MODEL_f2a8cb8e3f794ead96cefded6c68b726",
       "placeholder": "​",
       "style": "IPY_MODEL_2668f9d575dd443d9f9a782114372d3b",
       "value": "Downloading (…)lve/main/config.json: 100%"
      }
     },
     "5ca62890a40c4a4cac4ac1f39ab7484f": {
      "model_module": "@jupyter-widgets/controls",
      "model_module_version": "1.5.0",
      "model_name": "HBoxModel",
      "state": {
       "_dom_classes": [],
       "_model_module": "@jupyter-widgets/controls",
       "_model_module_version": "1.5.0",
       "_model_name": "HBoxModel",
       "_view_count": null,
       "_view_module": "@jupyter-widgets/controls",
       "_view_module_version": "1.5.0",
       "_view_name": "HBoxView",
       "box_style": "",
       "children": [
        "IPY_MODEL_99e4348d68bf41b0a25d7ba8f74ec6ec",
        "IPY_MODEL_b0f79291d30b4cd9ac1795f9d201ecab",
        "IPY_MODEL_dadc644140c947198f00d698eba1b2f1"
       ],
       "layout": "IPY_MODEL_f043a0925e5e478f957dab25d1b54752"
      }
     },
     "67ac5f568c354d24bf180d4efb966199": {
      "model_module": "@jupyter-widgets/base",
      "model_module_version": "1.2.0",
      "model_name": "LayoutModel",
      "state": {
       "_model_module": "@jupyter-widgets/base",
       "_model_module_version": "1.2.0",
       "_model_name": "LayoutModel",
       "_view_count": null,
       "_view_module": "@jupyter-widgets/base",
       "_view_module_version": "1.2.0",
       "_view_name": "LayoutView",
       "align_content": null,
       "align_items": null,
       "align_self": null,
       "border": null,
       "bottom": null,
       "display": null,
       "flex": null,
       "flex_flow": null,
       "grid_area": null,
       "grid_auto_columns": null,
       "grid_auto_flow": null,
       "grid_auto_rows": null,
       "grid_column": null,
       "grid_gap": null,
       "grid_row": null,
       "grid_template_areas": null,
       "grid_template_columns": null,
       "grid_template_rows": null,
       "height": null,
       "justify_content": null,
       "justify_items": null,
       "left": null,
       "margin": null,
       "max_height": null,
       "max_width": null,
       "min_height": null,
       "min_width": null,
       "object_fit": null,
       "object_position": null,
       "order": null,
       "overflow": null,
       "overflow_x": null,
       "overflow_y": null,
       "padding": null,
       "right": null,
       "top": null,
       "visibility": null,
       "width": null
      }
     },
     "696d267977af4b63ba9f92e7bc903dc6": {
      "model_module": "@jupyter-widgets/base",
      "model_module_version": "1.2.0",
      "model_name": "LayoutModel",
      "state": {
       "_model_module": "@jupyter-widgets/base",
       "_model_module_version": "1.2.0",
       "_model_name": "LayoutModel",
       "_view_count": null,
       "_view_module": "@jupyter-widgets/base",
       "_view_module_version": "1.2.0",
       "_view_name": "LayoutView",
       "align_content": null,
       "align_items": null,
       "align_self": null,
       "border": null,
       "bottom": null,
       "display": null,
       "flex": null,
       "flex_flow": null,
       "grid_area": null,
       "grid_auto_columns": null,
       "grid_auto_flow": null,
       "grid_auto_rows": null,
       "grid_column": null,
       "grid_gap": null,
       "grid_row": null,
       "grid_template_areas": null,
       "grid_template_columns": null,
       "grid_template_rows": null,
       "height": null,
       "justify_content": null,
       "justify_items": null,
       "left": null,
       "margin": null,
       "max_height": null,
       "max_width": null,
       "min_height": null,
       "min_width": null,
       "object_fit": null,
       "object_position": null,
       "order": null,
       "overflow": null,
       "overflow_x": null,
       "overflow_y": null,
       "padding": null,
       "right": null,
       "top": null,
       "visibility": null,
       "width": null
      }
     },
     "9032f8fd02ed48b8b26610053a33c4e3": {
      "model_module": "@jupyter-widgets/base",
      "model_module_version": "1.2.0",
      "model_name": "LayoutModel",
      "state": {
       "_model_module": "@jupyter-widgets/base",
       "_model_module_version": "1.2.0",
       "_model_name": "LayoutModel",
       "_view_count": null,
       "_view_module": "@jupyter-widgets/base",
       "_view_module_version": "1.2.0",
       "_view_name": "LayoutView",
       "align_content": null,
       "align_items": null,
       "align_self": null,
       "border": null,
       "bottom": null,
       "display": null,
       "flex": null,
       "flex_flow": null,
       "grid_area": null,
       "grid_auto_columns": null,
       "grid_auto_flow": null,
       "grid_auto_rows": null,
       "grid_column": null,
       "grid_gap": null,
       "grid_row": null,
       "grid_template_areas": null,
       "grid_template_columns": null,
       "grid_template_rows": null,
       "height": null,
       "justify_content": null,
       "justify_items": null,
       "left": null,
       "margin": null,
       "max_height": null,
       "max_width": null,
       "min_height": null,
       "min_width": null,
       "object_fit": null,
       "object_position": null,
       "order": null,
       "overflow": null,
       "overflow_x": null,
       "overflow_y": null,
       "padding": null,
       "right": null,
       "top": null,
       "visibility": null,
       "width": null
      }
     },
     "97180f8592174c0b985cbcff63b1a8de": {
      "model_module": "@jupyter-widgets/controls",
      "model_module_version": "1.5.0",
      "model_name": "DescriptionStyleModel",
      "state": {
       "_model_module": "@jupyter-widgets/controls",
       "_model_module_version": "1.5.0",
       "_model_name": "DescriptionStyleModel",
       "_view_count": null,
       "_view_module": "@jupyter-widgets/base",
       "_view_module_version": "1.2.0",
       "_view_name": "StyleView",
       "description_width": ""
      }
     },
     "99e4348d68bf41b0a25d7ba8f74ec6ec": {
      "model_module": "@jupyter-widgets/controls",
      "model_module_version": "1.5.0",
      "model_name": "HTMLModel",
      "state": {
       "_dom_classes": [],
       "_model_module": "@jupyter-widgets/controls",
       "_model_module_version": "1.5.0",
       "_model_name": "HTMLModel",
       "_view_count": null,
       "_view_module": "@jupyter-widgets/controls",
       "_view_module_version": "1.5.0",
       "_view_name": "HTMLView",
       "description": "",
       "description_tooltip": null,
       "layout": "IPY_MODEL_696d267977af4b63ba9f92e7bc903dc6",
       "placeholder": "​",
       "style": "IPY_MODEL_0f15e63977a042e692298e3c729458a6",
       "value": "Downloading tf_model.h5: 100%"
      }
     },
     "b0f79291d30b4cd9ac1795f9d201ecab": {
      "model_module": "@jupyter-widgets/controls",
      "model_module_version": "1.5.0",
      "model_name": "FloatProgressModel",
      "state": {
       "_dom_classes": [],
       "_model_module": "@jupyter-widgets/controls",
       "_model_module_version": "1.5.0",
       "_model_name": "FloatProgressModel",
       "_view_count": null,
       "_view_module": "@jupyter-widgets/controls",
       "_view_module_version": "1.5.0",
       "_view_name": "ProgressView",
       "bar_style": "success",
       "description": "",
       "description_tooltip": null,
       "layout": "IPY_MODEL_0a25a2c027d648a2b9c5ddd5c0d0fc75",
       "max": 54919784,
       "min": 0,
       "orientation": "horizontal",
       "style": "IPY_MODEL_156a5f9dd69c422fac81d38ba48d5a06",
       "value": 54919784
      }
     },
     "b8fa52d837654b82a495b3492c9d770d": {
      "model_module": "@jupyter-widgets/base",
      "model_module_version": "1.2.0",
      "model_name": "LayoutModel",
      "state": {
       "_model_module": "@jupyter-widgets/base",
       "_model_module_version": "1.2.0",
       "_model_name": "LayoutModel",
       "_view_count": null,
       "_view_module": "@jupyter-widgets/base",
       "_view_module_version": "1.2.0",
       "_view_name": "LayoutView",
       "align_content": null,
       "align_items": null,
       "align_self": null,
       "border": null,
       "bottom": null,
       "display": null,
       "flex": null,
       "flex_flow": null,
       "grid_area": null,
       "grid_auto_columns": null,
       "grid_auto_flow": null,
       "grid_auto_rows": null,
       "grid_column": null,
       "grid_gap": null,
       "grid_row": null,
       "grid_template_areas": null,
       "grid_template_columns": null,
       "grid_template_rows": null,
       "height": null,
       "justify_content": null,
       "justify_items": null,
       "left": null,
       "margin": null,
       "max_height": null,
       "max_width": null,
       "min_height": null,
       "min_width": null,
       "object_fit": null,
       "object_position": null,
       "order": null,
       "overflow": null,
       "overflow_x": null,
       "overflow_y": null,
       "padding": null,
       "right": null,
       "top": null,
       "visibility": null,
       "width": null
      }
     },
     "c62ef6f785b04075ad29cf4e599bc574": {
      "model_module": "@jupyter-widgets/controls",
      "model_module_version": "1.5.0",
      "model_name": "HTMLModel",
      "state": {
       "_dom_classes": [],
       "_model_module": "@jupyter-widgets/controls",
       "_model_module_version": "1.5.0",
       "_model_name": "HTMLModel",
       "_view_count": null,
       "_view_module": "@jupyter-widgets/controls",
       "_view_module_version": "1.5.0",
       "_view_name": "HTMLView",
       "description": "",
       "description_tooltip": null,
       "layout": "IPY_MODEL_b8fa52d837654b82a495b3492c9d770d",
       "placeholder": "​",
       "style": "IPY_MODEL_97180f8592174c0b985cbcff63b1a8de",
       "value": " 70.0k/70.0k [00:00&lt;00:00, 3.46MB/s]"
      }
     },
     "dadc644140c947198f00d698eba1b2f1": {
      "model_module": "@jupyter-widgets/controls",
      "model_module_version": "1.5.0",
      "model_name": "HTMLModel",
      "state": {
       "_dom_classes": [],
       "_model_module": "@jupyter-widgets/controls",
       "_model_module_version": "1.5.0",
       "_model_name": "HTMLModel",
       "_view_count": null,
       "_view_module": "@jupyter-widgets/controls",
       "_view_module_version": "1.5.0",
       "_view_name": "HTMLView",
       "description": "",
       "description_tooltip": null,
       "layout": "IPY_MODEL_2d3b99713d3d4e7db4acebb78e6c15da",
       "placeholder": "​",
       "style": "IPY_MODEL_f0108b523acb46d8a7d18129a62d7211",
       "value": " 54.9M/54.9M [00:01&lt;00:00, 51.4MB/s]"
      }
     },
     "dc2614ff9c614898a733262eca811fd3": {
      "model_module": "@jupyter-widgets/controls",
      "model_module_version": "1.5.0",
      "model_name": "FloatProgressModel",
      "state": {
       "_dom_classes": [],
       "_model_module": "@jupyter-widgets/controls",
       "_model_module_version": "1.5.0",
       "_model_name": "FloatProgressModel",
       "_view_count": null,
       "_view_module": "@jupyter-widgets/controls",
       "_view_module_version": "1.5.0",
       "_view_name": "ProgressView",
       "bar_style": "success",
       "description": "",
       "description_tooltip": null,
       "layout": "IPY_MODEL_9032f8fd02ed48b8b26610053a33c4e3",
       "max": 70044,
       "min": 0,
       "orientation": "horizontal",
       "style": "IPY_MODEL_fa239c67d041471e94fed12e4dae904f",
       "value": 70044
      }
     },
     "f0108b523acb46d8a7d18129a62d7211": {
      "model_module": "@jupyter-widgets/controls",
      "model_module_version": "1.5.0",
      "model_name": "DescriptionStyleModel",
      "state": {
       "_model_module": "@jupyter-widgets/controls",
       "_model_module_version": "1.5.0",
       "_model_name": "DescriptionStyleModel",
       "_view_count": null,
       "_view_module": "@jupyter-widgets/base",
       "_view_module_version": "1.2.0",
       "_view_name": "StyleView",
       "description_width": ""
      }
     },
     "f043a0925e5e478f957dab25d1b54752": {
      "model_module": "@jupyter-widgets/base",
      "model_module_version": "1.2.0",
      "model_name": "LayoutModel",
      "state": {
       "_model_module": "@jupyter-widgets/base",
       "_model_module_version": "1.2.0",
       "_model_name": "LayoutModel",
       "_view_count": null,
       "_view_module": "@jupyter-widgets/base",
       "_view_module_version": "1.2.0",
       "_view_name": "LayoutView",
       "align_content": null,
       "align_items": null,
       "align_self": null,
       "border": null,
       "bottom": null,
       "display": null,
       "flex": null,
       "flex_flow": null,
       "grid_area": null,
       "grid_auto_columns": null,
       "grid_auto_flow": null,
       "grid_auto_rows": null,
       "grid_column": null,
       "grid_gap": null,
       "grid_row": null,
       "grid_template_areas": null,
       "grid_template_columns": null,
       "grid_template_rows": null,
       "height": null,
       "justify_content": null,
       "justify_items": null,
       "left": null,
       "margin": null,
       "max_height": null,
       "max_width": null,
       "min_height": null,
       "min_width": null,
       "object_fit": null,
       "object_position": null,
       "order": null,
       "overflow": null,
       "overflow_x": null,
       "overflow_y": null,
       "padding": null,
       "right": null,
       "top": null,
       "visibility": null,
       "width": null
      }
     },
     "f2a8cb8e3f794ead96cefded6c68b726": {
      "model_module": "@jupyter-widgets/base",
      "model_module_version": "1.2.0",
      "model_name": "LayoutModel",
      "state": {
       "_model_module": "@jupyter-widgets/base",
       "_model_module_version": "1.2.0",
       "_model_name": "LayoutModel",
       "_view_count": null,
       "_view_module": "@jupyter-widgets/base",
       "_view_module_version": "1.2.0",
       "_view_name": "LayoutView",
       "align_content": null,
       "align_items": null,
       "align_self": null,
       "border": null,
       "bottom": null,
       "display": null,
       "flex": null,
       "flex_flow": null,
       "grid_area": null,
       "grid_auto_columns": null,
       "grid_auto_flow": null,
       "grid_auto_rows": null,
       "grid_column": null,
       "grid_gap": null,
       "grid_row": null,
       "grid_template_areas": null,
       "grid_template_columns": null,
       "grid_template_rows": null,
       "height": null,
       "justify_content": null,
       "justify_items": null,
       "left": null,
       "margin": null,
       "max_height": null,
       "max_width": null,
       "min_height": null,
       "min_width": null,
       "object_fit": null,
       "object_position": null,
       "order": null,
       "overflow": null,
       "overflow_x": null,
       "overflow_y": null,
       "padding": null,
       "right": null,
       "top": null,
       "visibility": null,
       "width": null
      }
     },
     "fa239c67d041471e94fed12e4dae904f": {
      "model_module": "@jupyter-widgets/controls",
      "model_module_version": "1.5.0",
      "model_name": "ProgressStyleModel",
      "state": {
       "_model_module": "@jupyter-widgets/controls",
       "_model_module_version": "1.5.0",
       "_model_name": "ProgressStyleModel",
       "_view_count": null,
       "_view_module": "@jupyter-widgets/base",
       "_view_module_version": "1.2.0",
       "_view_name": "StyleView",
       "bar_color": null,
       "description_width": ""
      }
     }
    },
    "version_major": 2,
    "version_minor": 0
   }
  }
 },
 "nbformat": 4,
 "nbformat_minor": 5
}
